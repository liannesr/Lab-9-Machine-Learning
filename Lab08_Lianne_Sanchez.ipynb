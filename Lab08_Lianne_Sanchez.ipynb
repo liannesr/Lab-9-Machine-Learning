{
  "nbformat": 4,
  "nbformat_minor": 0,
  "metadata": {
    "colab": {
      "name": "Lab08_Lianne_Sanchez",
      "version": "0.3.2",
      "provenance": [],
      "collapsed_sections": [
        "JndnmDMp66FL"
      ],
      "include_colab_link": true
    },
    "kernelspec": {
      "name": "python3",
      "display_name": "Python 3"
    }
  },
  "cells": [
    {
      "cell_type": "markdown",
      "metadata": {
        "id": "view-in-github",
        "colab_type": "text"
      },
      "source": [
        "<a href=\"https://colab.research.google.com/github/liannesr/Lab-9-Machine-Learning/blob/master/Lab08_Lianne_Sanchez.ipynb\" target=\"_parent\"><img src=\"https://colab.research.google.com/assets/colab-badge.svg\" alt=\"Open In Colab\"/></a>"
      ]
    },
    {
      "metadata": {
        "colab_type": "text",
        "id": "JndnmDMp66FL"
      },
      "cell_type": "markdown",
      "source": [
        "#### Copyright 2018 Google LLC."
      ]
    },
    {
      "metadata": {
        "cellView": "both",
        "colab_type": "code",
        "id": "hMqWDc_m6rUC",
        "colab": {}
      },
      "cell_type": "code",
      "source": [
        "# Licensed under the Apache License, Version 2.0 (the \"License\");\n",
        "# you may not use this file except in compliance with the License.\n",
        "# You may obtain a copy of the License at\n",
        "#\n",
        "# https://www.apache.org/licenses/LICENSE-2.0\n",
        "#\n",
        "# Unless required by applicable law or agreed to in writing, software\n",
        "# distributed under the License is distributed on an \"AS IS\" BASIS,\n",
        "# WITHOUT WARRANTIES OR CONDITIONS OF ANY KIND, either express or implied.\n",
        "# See the License for the specific language governing permissions and\n",
        "# limitations under the License."
      ],
      "execution_count": 0,
      "outputs": []
    },
    {
      "metadata": {
        "colab_type": "text",
        "id": "lab_objectives"
      },
      "cell_type": "markdown",
      "source": [
        "# Lab 8: Train a Linear Classifier with Numerical and Categorical Features\n",
        "** Learning Objectives **\n",
        "* Introduce logistic regression to train a binary classifier.\n",
        "* Understand metrics such as ROC curves, AUC, log loss, classification errors.\n",
        "* Train a linear classifier using the raw numerical and categorical features."
      ]
    },
    {
      "metadata": {
        "colab_type": "text",
        "id": "imports_text"
      },
      "cell_type": "markdown",
      "source": [
        "### Imports\n",
        "In this first cell, we import the libraries that we will be using."
      ]
    },
    {
      "metadata": {
        "cellView": "both",
        "colab_type": "code",
        "id": "imports_code",
        "colab": {}
      },
      "cell_type": "code",
      "source": [
        "import fnmatch\n",
        "import math\n",
        "\n",
        "from IPython import display\n",
        "from matplotlib import cm\n",
        "from matplotlib import gridspec\n",
        "from matplotlib import pyplot as plt\n",
        "import numpy as np\n",
        "import pandas as pd\n",
        "from sklearn import metrics\n",
        "import tensorflow as tf\n",
        "from tensorflow.python.data import Dataset\n",
        "\n",
        "# This line increases the amount of logging when there is an error.  You can\n",
        "# remove it if you want less logging\n",
        "tf.logging.set_verbosity(tf.logging.ERROR)\n",
        "\n",
        "# Set the output display to have two digits for decimal places, for display\n",
        "# readability only and limit it to printing 15 rows.\n",
        "pd.options.display.float_format = '{:.2f}'.format\n",
        "pd.options.display.max_rows = 15"
      ],
      "execution_count": 0,
      "outputs": []
    },
    {
      "metadata": {
        "colab_type": "text",
        "id": "dataset_summary_text"
      },
      "cell_type": "markdown",
      "source": [
        "### Data Set\n",
        "In this lab, you will solve a binary classification problem: Given census data about a person such as age, gender, education and occupation, we will predict whether or not the person earns more than 50,000 dollars a year (the target label). We will train a linear classifier that given the feature values for an individual outputs a number between 0 and 1, which can be interpreted as the probability that the individual has an annual income of over 50K.  Note that if we had the actual income (versus just a Boolean of whether it was over 50,000) then we could learn a regression model to predict income.\n",
        "\n",
        "The dataset we'll be using is the [Census Income Dataset](https://archive.ics.uci.edu/ml/datasets/Census+Income). We load the [training data](https://archive.ics.uci.edu/ml/machine-learning-databases/adult/adult.data) directly from here. Most of the column names should be self explanatory if not you can read more about it at the website linked above. The number of people the census takers believe that each observation represents (sample weight) could be used to weight the examples during training but for the purpose of this lab you can ignore it.  You don't want to use it as a feature."
      ]
    },
    {
      "metadata": {
        "colab_type": "code",
        "id": "read_dataset_code",
        "outputId": "4f66bde5-1c6f-4045-83b5-02c4b7920c77",
        "colab": {
          "base_uri": "https://localhost:8080/",
          "height": 292
        }
      },
      "cell_type": "code",
      "source": [
        "import tempfile\n",
        "import urllib\n",
        "import urllib.request\n",
        "train_file = tempfile.NamedTemporaryFile()\n",
        "urllib.request.urlretrieve(\"http://mlr.cs.umass.edu/ml/machine-learning-databases/adult/adult.data\", train_file.name)\n",
        "\n",
        "COLUMNS = [\"age\", \"workclass\", \"sample_weight\", \"education\", \"education_num\",\n",
        "           \"marital_status\", \"occupation\", \"relationship\", \"race\", \"gender\",\n",
        "           \"capital_gain\", \"capital_loss\", \"hours_per_week\", \"native_country\",\n",
        "           \"income_bracket\"]\n",
        "\n",
        "census_df = pd.read_csv(train_file, names=COLUMNS, skipinitialspace=True)\n",
        "# Show the first 5 rows of the table.\n",
        "census_df.head(5)"
      ],
      "execution_count": 0,
      "outputs": [
        {
          "output_type": "execute_result",
          "data": {
            "text/html": [
              "<div>\n",
              "<style scoped>\n",
              "    .dataframe tbody tr th:only-of-type {\n",
              "        vertical-align: middle;\n",
              "    }\n",
              "\n",
              "    .dataframe tbody tr th {\n",
              "        vertical-align: top;\n",
              "    }\n",
              "\n",
              "    .dataframe thead th {\n",
              "        text-align: right;\n",
              "    }\n",
              "</style>\n",
              "<table border=\"1\" class=\"dataframe\">\n",
              "  <thead>\n",
              "    <tr style=\"text-align: right;\">\n",
              "      <th></th>\n",
              "      <th>age</th>\n",
              "      <th>workclass</th>\n",
              "      <th>sample_weight</th>\n",
              "      <th>education</th>\n",
              "      <th>education_num</th>\n",
              "      <th>marital_status</th>\n",
              "      <th>occupation</th>\n",
              "      <th>relationship</th>\n",
              "      <th>race</th>\n",
              "      <th>gender</th>\n",
              "      <th>capital_gain</th>\n",
              "      <th>capital_loss</th>\n",
              "      <th>hours_per_week</th>\n",
              "      <th>native_country</th>\n",
              "      <th>income_bracket</th>\n",
              "    </tr>\n",
              "  </thead>\n",
              "  <tbody>\n",
              "    <tr>\n",
              "      <th>0</th>\n",
              "      <td>39</td>\n",
              "      <td>State-gov</td>\n",
              "      <td>77516</td>\n",
              "      <td>Bachelors</td>\n",
              "      <td>13</td>\n",
              "      <td>Never-married</td>\n",
              "      <td>Adm-clerical</td>\n",
              "      <td>Not-in-family</td>\n",
              "      <td>White</td>\n",
              "      <td>Male</td>\n",
              "      <td>2174</td>\n",
              "      <td>0</td>\n",
              "      <td>40</td>\n",
              "      <td>United-States</td>\n",
              "      <td>&lt;=50K</td>\n",
              "    </tr>\n",
              "    <tr>\n",
              "      <th>1</th>\n",
              "      <td>50</td>\n",
              "      <td>Self-emp-not-inc</td>\n",
              "      <td>83311</td>\n",
              "      <td>Bachelors</td>\n",
              "      <td>13</td>\n",
              "      <td>Married-civ-spouse</td>\n",
              "      <td>Exec-managerial</td>\n",
              "      <td>Husband</td>\n",
              "      <td>White</td>\n",
              "      <td>Male</td>\n",
              "      <td>0</td>\n",
              "      <td>0</td>\n",
              "      <td>13</td>\n",
              "      <td>United-States</td>\n",
              "      <td>&lt;=50K</td>\n",
              "    </tr>\n",
              "    <tr>\n",
              "      <th>2</th>\n",
              "      <td>38</td>\n",
              "      <td>Private</td>\n",
              "      <td>215646</td>\n",
              "      <td>HS-grad</td>\n",
              "      <td>9</td>\n",
              "      <td>Divorced</td>\n",
              "      <td>Handlers-cleaners</td>\n",
              "      <td>Not-in-family</td>\n",
              "      <td>White</td>\n",
              "      <td>Male</td>\n",
              "      <td>0</td>\n",
              "      <td>0</td>\n",
              "      <td>40</td>\n",
              "      <td>United-States</td>\n",
              "      <td>&lt;=50K</td>\n",
              "    </tr>\n",
              "    <tr>\n",
              "      <th>3</th>\n",
              "      <td>53</td>\n",
              "      <td>Private</td>\n",
              "      <td>234721</td>\n",
              "      <td>11th</td>\n",
              "      <td>7</td>\n",
              "      <td>Married-civ-spouse</td>\n",
              "      <td>Handlers-cleaners</td>\n",
              "      <td>Husband</td>\n",
              "      <td>Black</td>\n",
              "      <td>Male</td>\n",
              "      <td>0</td>\n",
              "      <td>0</td>\n",
              "      <td>40</td>\n",
              "      <td>United-States</td>\n",
              "      <td>&lt;=50K</td>\n",
              "    </tr>\n",
              "    <tr>\n",
              "      <th>4</th>\n",
              "      <td>28</td>\n",
              "      <td>Private</td>\n",
              "      <td>338409</td>\n",
              "      <td>Bachelors</td>\n",
              "      <td>13</td>\n",
              "      <td>Married-civ-spouse</td>\n",
              "      <td>Prof-specialty</td>\n",
              "      <td>Wife</td>\n",
              "      <td>Black</td>\n",
              "      <td>Female</td>\n",
              "      <td>0</td>\n",
              "      <td>0</td>\n",
              "      <td>40</td>\n",
              "      <td>Cuba</td>\n",
              "      <td>&lt;=50K</td>\n",
              "    </tr>\n",
              "  </tbody>\n",
              "</table>\n",
              "</div>"
            ],
            "text/plain": [
              "   age         workclass  sample_weight  education  education_num  \\\n",
              "0   39         State-gov          77516  Bachelors             13   \n",
              "1   50  Self-emp-not-inc          83311  Bachelors             13   \n",
              "2   38           Private         215646    HS-grad              9   \n",
              "3   53           Private         234721       11th              7   \n",
              "4   28           Private         338409  Bachelors             13   \n",
              "\n",
              "       marital_status         occupation   relationship   race  gender  \\\n",
              "0       Never-married       Adm-clerical  Not-in-family  White    Male   \n",
              "1  Married-civ-spouse    Exec-managerial        Husband  White    Male   \n",
              "2            Divorced  Handlers-cleaners  Not-in-family  White    Male   \n",
              "3  Married-civ-spouse  Handlers-cleaners        Husband  Black    Male   \n",
              "4  Married-civ-spouse     Prof-specialty           Wife  Black  Female   \n",
              "\n",
              "   capital_gain  capital_loss  hours_per_week native_country income_bracket  \n",
              "0          2174             0              40  United-States          <=50K  \n",
              "1             0             0              13  United-States          <=50K  \n",
              "2             0             0              40  United-States          <=50K  \n",
              "3             0             0              40  United-States          <=50K  \n",
              "4             0             0              40           Cuba          <=50K  "
            ]
          },
          "metadata": {
            "tags": []
          },
          "execution_count": 61
        }
      ]
    },
    {
      "metadata": {
        "colab_type": "text",
        "id": "prepare_features_text"
      },
      "cell_type": "markdown",
      "source": [
        "###Prepare Features\n",
        "\n",
        "Here is a basic implementation of `PrepareFeatures` for you to use.  Feel free to modify this to use feature normalization other than just linear scaling.  \n",
        "\n",
        "Note that for linear classification with just two labels, the labels must be 0 (think of this as false) and 1 (think of this as true).  Since `income_brackets` is a string, we must convert it to an integer. This can be done using a lambda function that outputs a Boolean  value, and then casts it to an integer. We have provided this for you."
      ]
    },
    {
      "metadata": {
        "colab_type": "code",
        "id": "prepare_features_code",
        "colab": {}
      },
      "cell_type": "code",
      "source": [
        "# Linearly rescales to the range [0, 1]\n",
        "def linear_scale(series):\n",
        "  min_val = series.min()\n",
        "  max_val = series.max()\n",
        "  scale = 1.0 * (max_val - min_val)\n",
        "  return series.apply(lambda x:((x - min_val) / scale))\n",
        "\n",
        "def prepare_features(dataframe):\n",
        "  \"\"\"Prepares the features for provided dataset.\n",
        "\n",
        "  Args:\n",
        "    dataframe: A Pandas DataFrame expected to contain the data.\n",
        "  Returns:\n",
        "    A new DataFrame that contains the features to be used for the model.\n",
        "  \"\"\"\n",
        "  processed_features = dataframe.copy()\n",
        "  for feature in NUMERICAL_FEATURES:\n",
        "    processed_features[feature] = linear_scale(dataframe[feature])\n",
        "    \n",
        "  # Convert the output target to 0 (for <=50k) and 1 (> 50k)\n",
        "  processed_features[LABEL] = dataframe[\"income_bracket\"].apply(\n",
        "      lambda x: \">50K\" in x).astype(int)\n",
        "  \n",
        "  return processed_features"
      ],
      "execution_count": 0,
      "outputs": []
    },
    {
      "metadata": {
        "colab_type": "text",
        "id": "input_function_text"
      },
      "cell_type": "markdown",
      "source": [
        "### Input Function\n",
        "We'll continue to use this same input function. You do not need to change this but if you want more detailed documentation of input functions and the `Dataset` API, see the [TensorFlow Programmer's Guide](https://www.tensorflow.org/programmers_guide/datasets)."
      ]
    },
    {
      "metadata": {
        "colab_type": "code",
        "id": "input_functions_code",
        "colab": {}
      },
      "cell_type": "code",
      "source": [
        "def input_fn(features, targets, batch_size=1, shuffle=True, num_epochs=None):\n",
        "    \"\"\"Defines a function to preprocess the data, as well as how to batch,\n",
        "      shuffle, and repeat it during model training.\n",
        "  \n",
        "    Args:\n",
        "      features: pandas DataFrame of features\n",
        "      targets: pandas DataFrame of targets\n",
        "      batch_size: Size of batches to be passed to the model\n",
        "      shuffle: True or False. Whether to shuffle the data.\n",
        "      num_epochs: Number of epochs for which data should be repeated. None = repeat indefinitely\n",
        "    Returns:\n",
        "      Tuple of (features, labels) for next data batch\n",
        "    \"\"\"\n",
        "    \n",
        "    # Convert pandas data into a dict of np arrays.\n",
        "    features = {key:np.array(value) for key,value in dict(features).items()}                                           \n",
        " \n",
        "    # Construct a dataset, and configure batching/repeating.\n",
        "    ds = Dataset.from_tensor_slices((features,targets)) # warning: 2GB limit\n",
        "    ds = ds.batch(batch_size).repeat(num_epochs)\n",
        "    \n",
        "    # Shuffle the data, if specified.\n",
        "    if shuffle:\n",
        "      ds = ds.shuffle(10000)\n",
        "    \n",
        "    # Return the next batch of data.\n",
        "    features, labels = ds.make_one_shot_iterator().get_next()\n",
        "    return features, labels"
      ],
      "execution_count": 0,
      "outputs": []
    },
    {
      "metadata": {
        "colab_type": "text",
        "id": "train_validate_input_functions_text"
      },
      "cell_type": "markdown",
      "source": [
        "### Define Input Functions Using the Training Data and Using the Validation Data\n",
        "\n",
        "We can now use a lambda function to create an input function to use when training the model, and one to use when evaluating the model's loss on the training data and also on the validation data."
      ]
    },
    {
      "metadata": {
        "colab_type": "code",
        "id": "train_validate_input_functions_code",
        "colab": {}
      },
      "cell_type": "code",
      "source": [
        "CATEGORICAL_FEATURES = [\"workclass\", \"education\", \"marital_status\", \"occupation\",\n",
        "                       \"relationship\", \"race\", \"gender\", \"native_country\"]\n",
        "NUMERICAL_FEATURES = [\"age\", \"education_num\", \"capital_gain\", \"capital_loss\",\n",
        "                      \"hours_per_week\"]\n",
        "FEATURES = NUMERICAL_FEATURES+CATEGORICAL_FEATURES,\n",
        "LABEL = \"income_over_50k\"\n",
        "\n",
        "# Here we define an input functon that uses the training examples generating\n",
        "# batches of 10 examples\n",
        "training_input_fn = lambda: input_fn(\n",
        "    training_examples[FEATURES], training_examples[LABEL], \n",
        "    batch_size=10)\n",
        "\n",
        "# Here we define an input function that will compute the loss over the entire\n",
        "# training set.\n",
        "predict_training_input_fn = lambda: input_fn(\n",
        "    training_examples[FEATURES], training_examples[LABEL], \n",
        "    num_epochs=1, shuffle=False)\n",
        "\n",
        "# Here we define an input function that will compute the loss over the entire\n",
        "# validation set.\n",
        "predict_validation_input_fn = lambda: input_fn(\n",
        "    validation_examples[FEATURES], validation_examples[LABEL], \n",
        "    num_epochs=1, shuffle=False)"
      ],
      "execution_count": 0,
      "outputs": []
    },
    {
      "metadata": {
        "colab_type": "text",
        "id": "learning_curve_text"
      },
      "cell_type": "markdown",
      "source": [
        "### Functions to Help Visualize Our Results\n",
        "\n",
        "Since this is a classification problem, the calibration plot is not a good visualization tool. Instead we use an **ROC curve** in which the x-axis is the false positive rate and the y-axis is the true positive rate.  An ROC curve is a very good way to visualize the quality of a binary classifier and also to pick a threshold when making a binary prediction.  Recall that the line `x=y` corresponds to a random classifier.  **AUC** (the area under the ROC curve) has the nice *probabilistic interpretation that a random positive example is predicted to be more likely to be positive than a random negative example*.\n",
        "\n",
        "Our implementation of `make_roc_curve` uses the [sklearn metrics](http://scikit-learn.org/stable/modules/classes.html#module-sklearn.metrics) class. There are a lot of tools already available within Python libraries so be sure and look for those. "
      ]
    },
    {
      "metadata": {
        "colab_type": "code",
        "id": "learning_curve_code",
        "colab": {}
      },
      "cell_type": "code",
      "source": [
        "def make_roc_curve(predictions, targets):\n",
        "  \"\"\" Plots an ROC curve for the provided predictions and targets.\n",
        "\n",
        "  Args:\n",
        "    predictions: the probability that the example has label 1.\n",
        "    targets: a list of the target values being predicted that must be the\n",
        "             same length as predictions.\n",
        "  \"\"\"  \n",
        "  false_positive_rate, true_positive_rate, thresholds = metrics.roc_curve(\n",
        "      targets, predictions)\n",
        "  \n",
        "  plt.ylabel(\"true positive rate\")\n",
        "  plt.xlabel(\"false positive rate\")\n",
        "  plt.plot(false_positive_rate, true_positive_rate)\n",
        "  \n",
        "def plot_learning_curve(training_losses, validation_losses):\n",
        "  \"\"\" Plot the learning curve.\n",
        "  \n",
        "  Args:\n",
        "    training_loses: a list of losses to plot.\n",
        "    validation_losses: a list of validation losses to plot.\n",
        "  \"\"\"        \n",
        "  plt.ylabel('Loss')\n",
        "  plt.xlabel('Training Steps')\n",
        "  plt.plot(training_losses, label=\"training\")\n",
        "  plt.plot(validation_losses, label=\"validation\")\n",
        "  plt.legend(loc=1)"
      ],
      "execution_count": 0,
      "outputs": []
    },
    {
      "metadata": {
        "colab_type": "text",
        "id": "compute_log_loss_text"
      },
      "cell_type": "markdown",
      "source": [
        "### Compute Loss\n",
        "\n",
        "For classification problems, we generally would like our output to be a probability distribution over the possible classes.  When we have two classes the **log loss** is a measure of how close the predicted distribution is to the target distribution, and that is the metric that we will optimize. Again, we use the [sklearn metrics](http://scikit-learn.org/stable/modules/classes.html#module-sklearn.metrics) class. "
      ]
    },
    {
      "metadata": {
        "colab_type": "code",
        "id": "compute_log_loss_code",
        "colab": {}
      },
      "cell_type": "code",
      "source": [
        "def compute_loss(probabilities, targets):\n",
        "  \"\"\" Computes the log loss for training a linear classifier.\n",
        "  \n",
        "  Args:\n",
        "    probabilities: the model predictions as probabilities\n",
        "    targets: a list of the target values being predicted that must be the\n",
        "             same length as probabilities.\n",
        "    \n",
        "  Returns:\n",
        "    The log loss for the provided probabilities and targets.\n",
        "  \"\"\"      \n",
        "  return metrics.log_loss(targets, probabilities)"
      ],
      "execution_count": 0,
      "outputs": []
    },
    {
      "metadata": {
        "colab_type": "text",
        "id": "train_model_text"
      },
      "cell_type": "markdown",
      "source": [
        "### Train Model\n",
        "\n",
        "Observe that `define_linear_classifier` is like `define_linear_regressor` and `train_model` is like `train_linear_regressor` with the changes of using the log loss to optimize, and we use the ROC curve to visualize the model quality.  As before we plot a learning curve to see if the model is converging, to help tune the learning rate, and to check if we are overfitting by looking at the loss on the validation data."
      ]
    },
    {
      "metadata": {
        "colab_type": "code",
        "id": "train_model_code",
        "colab": {}
      },
      "cell_type": "code",
      "source": [
        "def define_linear_classifier(learning_rate):\n",
        "  \"\"\" Defines a linear classifer to predict the target.\n",
        "  \n",
        "  Args:\n",
        "    learning_rate: A `float`, the learning rate.\n",
        "    \n",
        "  Returns:\n",
        "    A linear classifier created with the given parameters.\n",
        "  \"\"\"\n",
        "  optimizer = tf.train.GradientDescentOptimizer(learning_rate=learning_rate)\n",
        "  optimizer = tf.contrib.estimator.clip_gradients_by_norm(optimizer, 5.0)\n",
        "  linear_classifier = tf.estimator.LinearClassifier(\n",
        "    feature_columns=construct_feature_columns(),\n",
        "    optimizer=optimizer\n",
        "  )  \n",
        "  return linear_classifier\n",
        "\n",
        "# Function to train a classifier that a learning curve and ROC curve to help\n",
        "# evaluate your model.\n",
        "\n",
        "def train_model(model, training_features, training_labels,\n",
        "                validation_features, validation_labels, steps, batch_size):\n",
        "  \"\"\"Trains a classifier.\n",
        "  \n",
        "  Args:\n",
        "    model: The model to train\n",
        "    training_features: The input features from the training data\n",
        "    training_labels: the labels from the training data\n",
        "    validation_features: The input features from the validation data\n",
        "    validation_labels: the labels from the validation data\n",
        "    steps: A non-zero `int`, the total number of training steps.\n",
        "    batch_size: A non-zero `int`, the batch size.\n",
        "    \n",
        "  Returns:\n",
        "    The trained model\n",
        "  \"\"\"\n",
        "  # In order to see how the model evolves as we train it, we will divide the\n",
        "  # steps into periods and show the model after each period.\n",
        "  periods = 10\n",
        "  steps_per_period = steps / periods\n",
        "  \n",
        "  # Set up the training_input_fn, predict_training_input_fn, and\n",
        "  # predict_validation_input_fn\n",
        "  training_input_fn = lambda: input_fn(training_features, training_labels,\n",
        "                                       batch_size=batch_size)\n",
        "  predict_training_input_fn = lambda: input_fn(training_features,\n",
        "                                               training_labels,\n",
        "                                               num_epochs=1, shuffle=False)\n",
        "  predict_validation_input_fn = lambda: input_fn(validation_features,\n",
        "                                                 validation_labels,\n",
        "                                                 num_epochs=1, shuffle=False)\n",
        "  \n",
        "  # Train the model, but do so inside a loop so that we can periodically assess\n",
        "  # loss metrics.  We store the training losses to generate the training curve\n",
        "  print (\"Training model...\")\n",
        "  training_losses = []\n",
        "  validation_losses = []\n",
        "\n",
        "  for period in range (0, periods):\n",
        "    # Train the classifier for steps_per_period steps\n",
        "    _ = model.train(input_fn=training_input_fn, steps=steps_per_period)      \n",
        "    \n",
        "    # Use the predict method to compute the predictions as probabilities and\n",
        "    # from that the training loss.\n",
        "    probabilities = linear_classifier.predict(input_fn=predict_training_input_fn)\n",
        "    probabilities = np.array([item['probabilities'] for item in probabilities])\n",
        "    training_loss = compute_loss(probabilities, training_labels)\n",
        "    training_losses.append(training_loss) \n",
        "    \n",
        "    # Also compute the validation loss   \n",
        "    probabilities = linear_classifier.predict(input_fn=predict_validation_input_fn)\n",
        "    probabilities = np.array([item['probabilities'] for item in probabilities])\n",
        "    validation_loss = compute_loss(probabilities, validation_labels)\n",
        "    validation_losses.append(validation_loss) \n",
        "    print (\"  Training loss, Validation loss after period %02d : %0.3f, %0.3f\" % \\\n",
        "      (period, training_loss, validation_loss))\n",
        "      \n",
        "  # Now that training is done print the final training and validation loss    \n",
        "  print(\"Final Loss (Log Loss) on the training data: %0.3f\" % training_loss) \n",
        "  print(\"Final Loss (Log Loss) on the validation data: %0.3f\" % validation_loss) \n",
        "  \n",
        "  # Generate a figure with the learning curve on the left and an ROC curve on\n",
        "  # the right.\n",
        "  plt.figure(figsize=(10, 5))\n",
        "  plt.subplot(1, 2, 1)\n",
        "  plt.title(\"Learning Curve (Loss vs time)\")\n",
        "  plot_learning_curve(training_losses, validation_losses)\n",
        "  \n",
        "  plt.subplot(1, 2, 2)\n",
        "  plt.tight_layout(pad=1.1, w_pad=3.0, h_pad=3.0) \n",
        "  plt.title(\"ROC Curve on Validation Data\")\n",
        "  probabilities = linear_classifier.predict(input_fn=predict_validation_input_fn)\n",
        "  probabilities = np.array([item['probabilities'] for item in probabilities])\n",
        "\n",
        "  # ROC curve uses the probability that the label is 1.\n",
        "  make_roc_curve(probabilities[:, 1], validation_examples[LABEL])\n",
        "   \n",
        "  return model"
      ],
      "execution_count": 0,
      "outputs": []
    },
    {
      "metadata": {
        "colab_type": "text",
        "id": "define_features_text"
      },
      "cell_type": "markdown",
      "source": [
        "##Setting up the Features\n",
        "\n",
        "We will set things up showing you an example of how to set up each of the kind of features you will be using.  Then you can add in additional features.\n",
        "\n",
        "####Categorical Feauture Columns with known values.\n",
        "\n",
        "When the values are known you can simply use a line like below.  If you would view the weights, index 0 will be the first key provided, index 1, the next key,.....\n",
        "\n",
        "```\n",
        "gender = tf.contrib.layers.sparse_column_with_keys(column_name=\"gender\", keys=[\"Female\", \"Male\"])\n",
        "  ```\n",
        "####Categorical Feature Columns without known values\n",
        "\n",
        "Since you don't always know the possible values you can instead assign an index to each possible value via hashing where `hash_bucket_size` is the number of hash buckets used.\n",
        "\n",
        "```\n",
        "education = tf.contrib.layers.sparse_column_with_hash_bucket(\"education\", hash_bucket_size=100)\n",
        "```\n",
        "\n",
        "####Numerical Feature Columns\n",
        "As we have seen in past labs, we can directly use numerical features as long as appropriate scaling has been applied. The provided implementation of `prepare_features` linearly scales all numerical featuers to fall in [0,1]\n",
        "```\n",
        " age = tf.contrib.layers.real_valued_column(\"age\") \n",
        "```"
      ]
    },
    {
      "metadata": {
        "colab_type": "code",
        "id": "define_features_code",
        "colab": {}
      },
      "cell_type": "code",
      "source": [
        "def construct_feature_columns():\n",
        "  \"\"\"Construct TensorFlow Feature Columns for features\n",
        "  \n",
        "  Returns:\n",
        "    A set of feature columns.\n",
        "  \"\"\"\n",
        "  \n",
        "  # Sample of creating a categorical column with known values.\n",
        "  gender = tf.contrib.layers.sparse_column_with_keys(\n",
        "    column_name=\"gender\", keys=[\"Female\", \"Male\"])\n",
        "  \n",
        "  # Sample of creating a categorical columns with a hash bucket.    \n",
        "  education = tf.contrib.layers.sparse_column_with_hash_bucket(\n",
        "      \"education\", hash_bucket_size=50)\n",
        "  \n",
        "  # Sample of creating a real-valued column that can be used for numeric data.\n",
        "  age = tf.contrib.layers.real_valued_column(\"age\") \n",
        "\n",
        "  # Return the set of all feature columns generated.\n",
        "  feature_columns=[gender, education, age]\n",
        " \n",
        "  return feature_columns"
      ],
      "execution_count": 0,
      "outputs": []
    },
    {
      "metadata": {
        "colab_type": "text",
        "id": "split_data_text"
      },
      "cell_type": "markdown",
      "source": [
        "###Divide Data into Training and Validation Sets\n",
        "\n",
        "We first randomize the data, and then split it into a ***training set*** and ***validation set***.  There are 16281 examples so let's set aside 4000 for our validation data.  By randomizing the data before splitting it, we help ensure that our validation set is a representative sample."
      ]
    },
    {
      "metadata": {
        "colab_type": "code",
        "id": "split_data_code",
        "colab": {}
      },
      "cell_type": "code",
      "source": [
        "census_df = census_df.reindex(np.random.permutation(census_df.index))\n",
        "training_examples = prepare_features(census_df.head(12281))\n",
        "validation_examples = prepare_features(census_df.tail(4000))"
      ],
      "execution_count": 0,
      "outputs": []
    },
    {
      "metadata": {
        "colab_type": "text",
        "id": "train_classifier_text"
      },
      "cell_type": "markdown",
      "source": [
        "## Exercise  - Train a Linear Classifier (1/2 point)\n",
        "\n",
        "Let's start by just training the model with the three features already set-up in `construct_feature_columns`. Without changing anything but the learning_rate and number of steps to train, train the best model you can."
      ]
    },
    {
      "metadata": {
        "colab_type": "text",
        "id": "evaluation_metrics_text"
      },
      "cell_type": "markdown",
      "source": [
        "You can get a variety of evaluation metrics on the validation data to help you understand the quality of the models you have trained.  As we mentioned above,  **AUC** (the area under the ROC curve) has the nice *probabilistic interpretation that a random positive example is predicted to be more likely to be positive than a random negative example*.  The accuracy is the fraction of examples (in the provided data set) for which the predicted value is the same as the target label when a threshold of 0.5 on the output (the probability that the example is positive) is used as a threshold for classifying an example as positive or negative.  Finally the loss is the log loss (which is the metric being optimized)."
      ]
    },
    {
      "metadata": {
        "colab_type": "code",
        "id": "train_classifier_code",
        "outputId": "b1447e8d-e135-4a29-d6b8-6a97d3ce35a4",
        "colab": {
          "base_uri": "https://localhost:8080/",
          "height": 586
        }
      },
      "cell_type": "code",
      "source": [
        "CATEGORICAL_FEATURES = [\"workclass\", \"education\", \"marital_status\", \"occupation\",\n",
        "                       \"relationship\", \"race\", \"gender\", \"native_country\"]\n",
        "NUMERICAL_FEATURES = [\"age\", \"education_num\", \"capital_gain\", \"capital_loss\",\n",
        "                      \"hours_per_week\"]\n",
        "FEATURES = NUMERICAL_FEATURES+CATEGORICAL_FEATURES\n",
        "LABEL = \"income_over_50k\"\n",
        "\n",
        "LEARNING_RATE = 0.025\n",
        "STEPS = 10\n",
        "BATCH_SIZE = 50\n",
        "\n",
        "linear_classifier = define_linear_classifier(learning_rate = LEARNING_RATE)\n",
        "linear_classifier = train_model(\n",
        "    linear_classifier, training_examples[FEATURES],\n",
        "    training_examples[LABEL], validation_examples[FEATURES],\n",
        "    validation_examples[LABEL], batch_size=BATCH_SIZE, steps=STEPS)"
      ],
      "execution_count": 0,
      "outputs": [
        {
          "output_type": "stream",
          "text": [
            "Training model...\n",
            "  Training loss, Validation loss after period 00 : 0.654, 0.655\n",
            "  Training loss, Validation loss after period 01 : 0.620, 0.623\n",
            "  Training loss, Validation loss after period 02 : 0.594, 0.597\n",
            "  Training loss, Validation loss after period 03 : 0.573, 0.578\n",
            "  Training loss, Validation loss after period 04 : 0.557, 0.563\n",
            "  Training loss, Validation loss after period 05 : 0.551, 0.557\n",
            "  Training loss, Validation loss after period 06 : 0.539, 0.546\n",
            "  Training loss, Validation loss after period 07 : 0.534, 0.540\n",
            "  Training loss, Validation loss after period 08 : 0.527, 0.535\n",
            "  Training loss, Validation loss after period 09 : 0.527, 0.536\n",
            "Final Loss (Log Loss) on the training data: 0.527\n",
            "Final Loss (Log Loss) on the validation data: 0.536\n"
          ],
          "name": "stdout"
        },
        {
          "output_type": "display_data",
          "data": {
            "image/png": "[encoded data removed]",
            "text/plain": [
              "<matplotlib.figure.Figure at 0x7fe8ab5fbb00>"
            ]
          },
          "metadata": {
            "tags": []
          }
        }
      ]
    },
    {
      "metadata": {
        "colab_type": "code",
        "id": "evaluation_metrics_code",
        "outputId": "c559e8d2-4709-4841-f80e-fbe5239151fc",
        "colab": {
          "base_uri": "https://localhost:8080/",
          "height": 68
        }
      },
      "cell_type": "code",
      "source": [
        "evaluation_metrics = linear_classifier.evaluate(\n",
        " input_fn=predict_validation_input_fn)\n",
        "\n",
        "print (\"AUC on the validation set: %0.2f\" % evaluation_metrics['auc'])\n",
        "print (\"Accuracy on the validation set: %0.2f\" % evaluation_metrics['accuracy'])\n",
        "print (\"Loss on the validation set: %0.2f\" % evaluation_metrics['loss'])"
      ],
      "execution_count": 0,
      "outputs": [
        {
          "output_type": "stream",
          "text": [
            "AUC on the validation set: 0.70\n",
            "Accuracy on the validation set: 0.75\n",
            "Loss on the validation set: 0.54\n"
          ],
          "name": "stdout"
        }
      ]
    },
    {
      "metadata": {
        "colab_type": "text",
        "id": "exercise_train_better_classifier_text"
      },
      "cell_type": "markdown",
      "source": [
        "## Exercise - Train a Better Linear Classifier (4 points)\n",
        "\n",
        "Using your choice of categorical and numerical features and hyperparameters, train the best linear classifier you can.\n",
        "\n",
        "For your convenience we have duplicated the definition of `construct_feature_columns` and included it below with the code to train the model. **So far no changes have been made -- that's what you need to do here.**\n",
        "\n",
        "Feel free to duplicate the code box below if you want to see the results of several different options at once.\n",
        "\n",
        "**WARNING: As discussed in the slides, regularization is very important for logistic regression. Recall the asymptotes of log loss function (with the slope going to infinity as you approach 0 and 1). Two strategies to avoid overflow are L2 regularization that penalizes huge weights and early stopping that stops the training before overfitting begins.  If you see an error indicating that you divided by zero or a loss of NaN, then most likely this situation has occured. The way to address this problem is to introduce regularization (which you will learn how to do in the next lab). For now, the solution is to reduce the learning rate and/or the number of training steps even if that means that your model is undertrained.**"
      ]
    },
    {
      "metadata": {
        "colab_type": "code",
        "id": "exercise_train_better_classifier_code",
        "outputId": "aec2d178-a4a3-4736-8f70-104f619a619c",
        "colab": {
          "base_uri": "https://localhost:8080/",
          "height": 586
        }
      },
      "cell_type": "code",
      "source": [
        "def construct_feature_columns():\n",
        "  \"\"\"Construct TensorFlow Feature Columns for features\n",
        "  \n",
        "  Returns:\n",
        "    A set of feature columns.\n",
        "  \"\"\"\n",
        "  \n",
        "  # Sample of creating a categorical column with known values.\n",
        "  gender = tf.contrib.layers.sparse_column_with_keys(\n",
        "    column_name=\"gender\", keys=[\"Female\", \"Male\"])\n",
        "  \n",
        "  # Sample of creating a categorical columns with a hash bucket.    \n",
        "  education = tf.contrib.layers.sparse_column_with_hash_bucket(\n",
        "      \"education\", hash_bucket_size=50)\n",
        "  \n",
        "  # Sample of creating a real-valued column that can be used for numerical data.\n",
        "  age = tf.contrib.layers.real_valued_column(\"age\") \n",
        "\n",
        "  # Sample of creating a real-valued column that can be used for numerical data.\n",
        "  hours_per_week = tf.contrib.layers.real_valued_column(\"hours_per_week\")\n",
        "\n",
        "  # Sample of creating a categorical column with a hash bucket\n",
        "  occupation = tf.contrib.layers.sparse_column_with_hash_bucket(\"occupation\", hash_bucket_size=50)\n",
        "\n",
        "  # Return the set of all feature columns generated.\n",
        "  feature_columns=[gender, education, age, occupation, hours_per_week]\n",
        " \n",
        "  return feature_columns\n",
        "\n",
        "# Defining and training a model\n",
        "\n",
        "CATEGORICAL_FEATURES = [\"workclass\", \"education\", \"marital_status\", \"occupation\",\n",
        "                       \"relationship\", \"race\", \"gender\", \"native_country\"]\n",
        "NUMERICAL_FEATURES = [\"age\", \"education_num\", \"capital_gain\", \"capital_loss\",\n",
        "                      \"hours_per_week\"]\n",
        "FEATURES = NUMERICAL_FEATURES+CATEGORICAL_FEATURES\n",
        "LABEL = \"income_over_50k\"\n",
        "\n",
        "LEARNING_RATE = 0.015\n",
        "STEPS = 50\n",
        "BATCH_SIZE = 50\n",
        "\n",
        "linear_classifier = define_linear_classifier(learning_rate = LEARNING_RATE)\n",
        "linear_classifier = train_model(\n",
        "    linear_classifier, training_examples[FEATURES],\n",
        "    training_examples[LABEL], validation_examples[FEATURES],\n",
        "    validation_examples[LABEL], batch_size=BATCH_SIZE, steps=STEPS)"
      ],
      "execution_count": 0,
      "outputs": [
        {
          "output_type": "stream",
          "text": [
            "Training model...\n",
            "  Training loss, Validation loss after period 00 : 0.618, 0.621\n",
            "  Training loss, Validation loss after period 01 : 0.573, 0.577\n",
            "  Training loss, Validation loss after period 02 : 0.542, 0.548\n",
            "  Training loss, Validation loss after period 03 : 0.525, 0.533\n",
            "  Training loss, Validation loss after period 04 : 0.512, 0.520\n",
            "  Training loss, Validation loss after period 05 : 0.506, 0.514\n",
            "  Training loss, Validation loss after period 06 : 0.501, 0.509\n",
            "  Training loss, Validation loss after period 07 : 0.497, 0.506\n",
            "  Training loss, Validation loss after period 08 : 0.491, 0.500\n",
            "  Training loss, Validation loss after period 09 : 0.488, 0.496\n",
            "Final Loss (Log Loss) on the training data: 0.488\n",
            "Final Loss (Log Loss) on the validation data: 0.496\n"
          ],
          "name": "stdout"
        },
        {
          "output_type": "display_data",
          "data": {
            "image/png": "[encoded data removed]",
            "text/plain": [
              "<matplotlib.figure.Figure at 0x7fe8ab402978>"
            ]
          },
          "metadata": {
            "tags": []
          }
        }
      ]
    },
    {
      "metadata": {
        "colab_type": "text",
        "id": "look_at_evaluation_metrics_text"
      },
      "cell_type": "markdown",
      "source": [
        "Let's look at the evaluation metrics for your trained model."
      ]
    },
    {
      "metadata": {
        "colab_type": "code",
        "id": "look_at_evaluation_metrics_code",
        "outputId": "72b7dba5-5bc7-4354-e37e-b440ea97d2e3",
        "colab": {
          "base_uri": "https://localhost:8080/",
          "height": 68
        }
      },
      "cell_type": "code",
      "source": [
        "evaluation_metrics = linear_classifier.evaluate(\n",
        " input_fn=predict_validation_input_fn)\n",
        "\n",
        "print (\"AUC on the validation set: %0.2f\" % evaluation_metrics['auc'])\n",
        "print (\"Accuracy on the validation set: %0.2f\" % evaluation_metrics['accuracy'])\n",
        "print (\"Loss on the validation set: %0.2f\" % evaluation_metrics['loss'])"
      ],
      "execution_count": 0,
      "outputs": [
        {
          "output_type": "stream",
          "text": [
            "AUC on the validation set: 0.76\n",
            "Accuracy on the validation set: 0.75\n",
            "Loss on the validation set: 0.50\n"
          ],
          "name": "stdout"
        }
      ]
    },
    {
      "metadata": {
        "id": "J88X8MKpVEWQ",
        "colab_type": "code",
        "outputId": "e04dfe88-9afa-4cda-bbb8-a1be8090c189",
        "colab": {
          "base_uri": "https://localhost:8080/",
          "height": 586
        }
      },
      "cell_type": "code",
      "source": [
        "def construct_feature_columns():\n",
        "  \"\"\"Construct TensorFlow Feature Columns for features\n",
        "  \n",
        "  Returns:\n",
        "    A set of feature columns.\n",
        "  \"\"\"\n",
        "  \n",
        "  # Sample of creating a categorical column with known values.\n",
        "  gender = tf.contrib.layers.sparse_column_with_keys(\n",
        "    column_name=\"gender\", keys=[\"Female\", \"Male\"])\n",
        "  \n",
        "  # Sample of creating a categorical columns with a hash bucket.    \n",
        "  education = tf.contrib.layers.sparse_column_with_hash_bucket(\n",
        "      \"education\", hash_bucket_size=50)\n",
        "\n",
        "# Sample of creating a categorical columns with a hash bucket.    \n",
        "  workclass = tf.contrib.layers.sparse_column_with_hash_bucket(\n",
        "      \"workclass\", hash_bucket_size=50)\n",
        "  \n",
        "  # Sample of creating a categorical columns with a hash bucket.    \n",
        "  marital_status = tf.contrib.layers.sparse_column_with_hash_bucket(\n",
        "      \"marital_status\", hash_bucket_size=50)\n",
        "\n",
        "  # Sample of creating a real-valued column that can be used for numerical data.\n",
        "  age = tf.contrib.layers.real_valued_column(\"age\") \n",
        "\n",
        "  # Sample of creating a real-valued column that can be used for numerical data.\n",
        "  hours_per_week = tf.contrib.layers.real_valued_column(\"hours_per_week\")\n",
        "\n",
        "  # Sample of creating a real-valued column that can be used for numerical data.\n",
        "  education_num = tf.contrib.layers.real_valued_column(\"education_num\")\n",
        "\n",
        "  # Sample of creating a categorical column with a hash bucket\n",
        "  occupation = tf.contrib.layers.sparse_column_with_hash_bucket(\"occupation\", hash_bucket_size=50)\n",
        "\n",
        "  # Return the set of all feature columns generated.\n",
        "  feature_columns=[gender, education, age, occupation, hours_per_week, education_num, workclass, marital_status]\n",
        " \n",
        "  return feature_columns\n",
        "\n",
        "# Defining and training a model\n",
        "\n",
        "CATEGORICAL_FEATURES = [\"workclass\", \"education\", \"marital_status\", \"occupation\",\n",
        "                       \"relationship\", \"race\", \"gender\", \"native_country\"]\n",
        "NUMERICAL_FEATURES = [\"age\", \"education_num\", \"capital_gain\", \"capital_loss\",\n",
        "                      \"hours_per_week\"]\n",
        "FEATURES = NUMERICAL_FEATURES+CATEGORICAL_FEATURES\n",
        "LABEL = \"income_over_50k\"\n",
        "\n",
        "LEARNING_RATE = 0.04\n",
        "STEPS = 20\n",
        "BATCH_SIZE = 50\n",
        "\n",
        "linear_classifier = define_linear_classifier(learning_rate = LEARNING_RATE)\n",
        "linear_classifier = train_model(\n",
        "    linear_classifier, training_examples[FEATURES],\n",
        "    training_examples[LABEL], validation_examples[FEATURES],\n",
        "    validation_examples[LABEL], batch_size=BATCH_SIZE, steps=STEPS)"
      ],
      "execution_count": 0,
      "outputs": [
        {
          "output_type": "stream",
          "text": [
            "Training model...\n",
            "  Training loss, Validation loss after period 00 : 0.566, 0.570\n",
            "  Training loss, Validation loss after period 01 : 0.517, 0.523\n",
            "  Training loss, Validation loss after period 02 : 0.494, 0.500\n",
            "  Training loss, Validation loss after period 03 : 0.468, 0.474\n",
            "  Training loss, Validation loss after period 04 : 0.450, 0.455\n",
            "  Training loss, Validation loss after period 05 : 0.443, 0.448\n",
            "  Training loss, Validation loss after period 06 : 0.438, 0.445\n",
            "  Training loss, Validation loss after period 07 : 0.430, 0.432\n",
            "  Training loss, Validation loss after period 08 : 0.425, 0.427\n",
            "  Training loss, Validation loss after period 09 : 0.434, 0.433\n",
            "Final Loss (Log Loss) on the training data: 0.434\n",
            "Final Loss (Log Loss) on the validation data: 0.433\n"
          ],
          "name": "stdout"
        },
        {
          "output_type": "display_data",
          "data": {
            "image/png": "[encoded data removed]",
            "text/plain": [
              "<matplotlib.figure.Figure at 0x7fe8ac7cd908>"
            ]
          },
          "metadata": {
            "tags": []
          }
        }
      ]
    },
    {
      "metadata": {
        "id": "fn1jRV8fVHTO",
        "colab_type": "code",
        "outputId": "70d990df-7f1a-4caa-d407-b5e9d8b23927",
        "colab": {
          "base_uri": "https://localhost:8080/",
          "height": 68
        }
      },
      "cell_type": "code",
      "source": [
        "evaluation_metrics = linear_classifier.evaluate(\n",
        " input_fn=predict_validation_input_fn)\n",
        "\n",
        "print (\"AUC on the validation set: %0.2f\" % evaluation_metrics['auc'])\n",
        "print (\"Accuracy on the validation set: %0.2f\" % evaluation_metrics['accuracy'])\n",
        "print (\"Loss on the validation set: %0.2f\" % evaluation_metrics['loss'])"
      ],
      "execution_count": 0,
      "outputs": [
        {
          "output_type": "stream",
          "text": [
            "AUC on the validation set: 0.85\n",
            "Accuracy on the validation set: 0.78\n",
            "Loss on the validation set: 0.43\n"
          ],
          "name": "stdout"
        }
      ]
    },
    {
      "metadata": {
        "id": "p5n1QE2ZgGk2",
        "colab_type": "code",
        "outputId": "75669afe-f4c5-4497-8b62-a342f9fa1692",
        "colab": {
          "base_uri": "https://localhost:8080/",
          "height": 586
        }
      },
      "cell_type": "code",
      "source": [
        "def construct_feature_columns():\n",
        "  \"\"\"Construct TensorFlow Feature Columns for features\n",
        "  \n",
        "  Returns:\n",
        "    A set of feature columns.\n",
        "  \"\"\"\n",
        "  \n",
        "  # Sample of creating a categorical column with known values.\n",
        "  gender = tf.contrib.layers.sparse_column_with_keys(\n",
        "    column_name=\"gender\", keys=[\"Female\", \"Male\"])\n",
        "  \n",
        "  # Sample of creating a categorical columns with a hash bucket.    \n",
        "  education = tf.contrib.layers.sparse_column_with_hash_bucket(\n",
        "      \"education\", hash_bucket_size=50)\n",
        "\n",
        "# Sample of creating a categorical columns with a hash bucket.    \n",
        "  workclass = tf.contrib.layers.sparse_column_with_hash_bucket(\n",
        "      \"workclass\", hash_bucket_size=50)\n",
        "  \n",
        "  # Sample of creating a categorical columns with a hash bucket.    \n",
        "  marital_status = tf.contrib.layers.sparse_column_with_hash_bucket(\n",
        "      \"marital_status\", hash_bucket_size=50)\n",
        "\n",
        "  # Sample of creating a categorical columns with a hash bucket.    \n",
        "  relationship = tf.contrib.layers.sparse_column_with_hash_bucket(\n",
        "      \"relationship\", hash_bucket_size=50)\n",
        "\n",
        "  # Sample of creating a categorical columns with a hash bucket.    \n",
        "  race = tf.contrib.layers.sparse_column_with_hash_bucket(\n",
        "      \"race\", hash_bucket_size=50)\n",
        "\n",
        "  # Sample of creating a categorical columns with a hash bucket.    \n",
        "  native_country = tf.contrib.layers.sparse_column_with_hash_bucket(\n",
        "      \"native_country\", hash_bucket_size=50)\n",
        "\n",
        "  # Sample of creating a real-valued column that can be used for numerical data.\n",
        "  age = tf.contrib.layers.real_valued_column(\"age\") \n",
        "\n",
        "  # Sample of creating a real-valued column that can be used for numerical data.\n",
        "  hours_per_week = tf.contrib.layers.real_valued_column(\"hours_per_week\")\n",
        "\n",
        "  # Sample of creating a real-valued column that can be used for numerical data.\n",
        "  education_num = tf.contrib.layers.real_valued_column(\"education_num\")\n",
        "\n",
        "  # Sample of creating a real-valued column that can be used for numerical data.\n",
        "  capital_gain = tf.contrib.layers.real_valued_column(\"capital_gain\")\n",
        "\n",
        "  # Sample of creating a real-valued column that can be used for numerical data.\n",
        "  capital_loss = tf.contrib.layers.real_valued_column(\"capital_loss\")\n",
        "\n",
        "  # Sample of creating a categorical column with a hash bucket\n",
        "  occupation = tf.contrib.layers.sparse_column_with_hash_bucket(\"occupation\", hash_bucket_size=50)\n",
        "\n",
        "  # Return the set of all feature columns generated.\n",
        "  feature_columns=[gender, education, age, occupation, hours_per_week, education_num, workclass, marital_status,relationship,race, native_country]\n",
        " \n",
        "  return feature_columns\n",
        "\n",
        "# Defining and training a model\n",
        "\n",
        "CATEGORICAL_FEATURES = [\"workclass\", \"education\", \"marital_status\", \"occupation\",\n",
        "                       \"relationship\", \"race\", \"gender\", \"native_country\"]\n",
        "NUMERICAL_FEATURES = [\"age\", \"education_num\", \"capital_gain\", \"capital_loss\",\n",
        "                      \"hours_per_week\"]\n",
        "FEATURES = NUMERICAL_FEATURES+CATEGORICAL_FEATURES\n",
        "LABEL = \"income_over_50k\"\n",
        "\n",
        "LEARNING_RATE = 0.015\n",
        "STEPS = 100\n",
        "BATCH_SIZE = 50\n",
        "\n",
        "linear_classifier = define_linear_classifier(learning_rate = LEARNING_RATE)\n",
        "linear_classifier = train_model(\n",
        "    linear_classifier, training_examples[FEATURES],\n",
        "    training_examples[LABEL], validation_examples[FEATURES],\n",
        "    validation_examples[LABEL], batch_size=BATCH_SIZE, steps=STEPS)"
      ],
      "execution_count": 0,
      "outputs": [
        {
          "output_type": "stream",
          "text": [
            "Training model...\n",
            "  Training loss, Validation loss after period 00 : 0.515, 0.519\n",
            "  Training loss, Validation loss after period 01 : 0.460, 0.465\n",
            "  Training loss, Validation loss after period 02 : 0.434, 0.438\n",
            "  Training loss, Validation loss after period 03 : 0.419, 0.424\n",
            "  Training loss, Validation loss after period 04 : 0.407, 0.411\n",
            "  Training loss, Validation loss after period 05 : 0.401, 0.407\n",
            "  Training loss, Validation loss after period 06 : 0.399, 0.405\n",
            "  Training loss, Validation loss after period 07 : 0.398, 0.405\n",
            "  Training loss, Validation loss after period 08 : 0.398, 0.401\n",
            "  Training loss, Validation loss after period 09 : 0.390, 0.394\n",
            "Final Loss (Log Loss) on the training data: 0.390\n",
            "Final Loss (Log Loss) on the validation data: 0.394\n"
          ],
          "name": "stdout"
        },
        {
          "output_type": "display_data",
          "data": {
            "image/png": "[encoded data removed]",
            "text/plain": [
              "<matplotlib.figure.Figure at 0x7fe8aab272b0>"
            ]
          },
          "metadata": {
            "tags": []
          }
        }
      ]
    },
    {
      "metadata": {
        "id": "KK1A0Iq7SKEL",
        "colab_type": "code",
        "colab": {}
      },
      "cell_type": "code",
      "source": [
        ""
      ],
      "execution_count": 0,
      "outputs": []
    },
    {
      "metadata": {
        "id": "oh2k9UONgJcc",
        "colab_type": "code",
        "outputId": "811bc06d-0f55-445e-a074-9d6818f7db8a",
        "colab": {
          "base_uri": "https://localhost:8080/",
          "height": 68
        }
      },
      "cell_type": "code",
      "source": [
        "evaluation_metrics = linear_classifier.evaluate(\n",
        " input_fn=predict_validation_input_fn)\n",
        "\n",
        "print (\"AUC on the validation set: %0.2f\" % evaluation_metrics['auc'])\n",
        "print (\"Accuracy on the validation set: %0.2f\" % evaluation_metrics['accuracy'])\n",
        "print (\"Loss on the validation set: %0.2f\" % evaluation_metrics['loss'])"
      ],
      "execution_count": 0,
      "outputs": [
        {
          "output_type": "stream",
          "text": [
            "AUC on the validation set: 0.86\n",
            "Accuracy on the validation set: 0.82\n",
            "Loss on the validation set: 0.39\n"
          ],
          "name": "stdout"
        }
      ]
    },
    {
      "metadata": {
        "colab_type": "text",
        "id": "exercise_view_test_metrics"
      },
      "cell_type": "markdown",
      "source": [
        "## Exercise - Look at Evaluation Metrics on the Test Data (1/2 point)\n",
        "\n",
        "Like with the housing data, this data set has a specified [test data](https://archive.ics.uci.edu/ml/machine-learning-databases/adult/adult.test) that we can use at the end to look at the performance for our final classifier.  We will load it and do the pre-processing here but this should not be used in training or selecting any of the hyperparameters.\n",
        "\n",
        "In the first code box below put and execute code to compute the accuracy and AUC of your model on the test data.  Then in your own words interpret what these numbers are telling you about how your model will perform.\n"
      ]
    },
    {
      "metadata": {
        "colab_type": "code",
        "id": "exercise_view_test_metrics_code",
        "outputId": "d56cdceb-319c-4093-801b-01561b667581",
        "colab": {
          "base_uri": "https://localhost:8080/",
          "height": 68
        }
      },
      "cell_type": "code",
      "source": [
        "# Finish this code box to compute accuracy and AUC on the test input. Use what is done for the validation data to guide you.\n",
        "\n",
        "test_file = tempfile.NamedTemporaryFile()\n",
        "urllib.request.urlretrieve(\"http://mlr.cs.umass.edu/ml/machine-learning-databases/adult/adult.test\", test_file.name)\n",
        "\n",
        "census_df_test = pd.read_csv(test_file, names=COLUMNS, skipinitialspace=True, skiprows=1)\n",
        "test_examples = prepare_features(census_df_test)\n",
        "\n",
        "# using the code above to guide you if needed define a test_input_fn and\n",
        "\n",
        "features = test_examples[NUMERICAL_FEATURES+CATEGORICAL_FEATURES]\n",
        "targets = test_examples[LABEL]\n",
        "test_input_fn = lambda: input_fn(features, targets, num_epochs=1,\n",
        "                                         shuffle=False)\n",
        "# Fill in the rest to complete this.\n",
        "evaluation_metrics = linear_classifier.evaluate(\n",
        " input_fn=test_input_fn)\n",
        "\n",
        "print (\"AUC on the test set: %0.2f\" % evaluation_metrics['auc'])\n",
        "print (\"Accuracy on the test set: %0.2f\" % evaluation_metrics['accuracy'])\n",
        "print (\"Loss on the test set: %0.2f\" % evaluation_metrics['loss'])"
      ],
      "execution_count": 0,
      "outputs": [
        {
          "output_type": "stream",
          "text": [
            "AUC on the test set: 0.86\n",
            "Accuracy on the test set: 0.83\n",
            "Loss on the test set: 0.39\n"
          ],
          "name": "stdout"
        }
      ]
    },
    {
      "metadata": {
        "colab_type": "code",
        "id": "exercise_explain_metrics_codebox",
        "colab": {}
      },
      "cell_type": "code",
      "source": [
        "\"\"\"\n",
        "Explain in your own words what the accuracy and AUC values are saying about how your model will perform.\n",
        "\n",
        "1. Accuracy: The accuracy means the quantity of predictions that were correct in our data set.\n",
        "This means, that with the evaluation metrics that our classifier predicts the correct answer\n",
        "83% of the time. A threshold is used for classifyinf an example as positive or negative.\n",
        " This is not a very reliable metric because it depends only on the data,\n",
        "and we could have a model that is not necessarily correct.\n",
        "\n",
        "2. Area under the curve (AUC): Area under the curve is the ratio between TP vs. FP rates.\n",
        "It shows and measures how good is the classifier. When it says that AUC is .86 which \n",
        "is much better than a classifier that has .5 which means that it doesn't have any diagnostic ability.\n",
        "By having 0.86 which is a lot closer to 0, we have the ability to choose a random positive value \n",
        "and have more probability of predicting a positive value (which is correct), than a negative one.  \n",
        "The ideal model is to have AUC 1, where FN=0 and FP = 0; \n",
        "\n",
        "\"\"\""
      ],
      "execution_count": 0,
      "outputs": []
    }
  ]
}